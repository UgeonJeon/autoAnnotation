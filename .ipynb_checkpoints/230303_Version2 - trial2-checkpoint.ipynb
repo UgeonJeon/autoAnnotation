{
 "cells": [
  {
   "cell_type": "markdown",
   "id": "fb23bfe4",
   "metadata": {},
   "source": [
    "* 3가지 모델 다른 용종으로 추가 비교\n",
    "    * 1C : two track으로 적용 후 interpolate prediction을 우선으로 적용\n",
    "    * 1A : two track으로 적용 후 IOU를 활용한 중간값\n",
    "    * 3  : interpolating 한 후 tracking 적용"
   ]
  },
  {
   "cell_type": "markdown",
   "id": "ab6f3b7d",
   "metadata": {},
   "source": [
    "## Modules"
   ]
  },
  {
   "cell_type": "code",
   "execution_count": 1,
   "id": "67f1ebdf",
   "metadata": {
    "ExecuteTime": {
     "end_time": "2023-03-03T08:37:31.825426Z",
     "start_time": "2023-03-03T08:37:30.908863Z"
    }
   },
   "outputs": [],
   "source": [
    "import os\n",
    "import cv2\n",
    "from glob import glob \n",
    "import os.path as osp\n",
    "import time\n",
    "import shutil\n",
    "from pathlib import Path\n",
    "import pathlib\n",
    "import sys\n",
    "import ast\n",
    "\n",
    "import matplotlib.pyplot as plt\n",
    "import numpy as np\n",
    "import random\n",
    "\n",
    "import magic\n",
    "import re\n",
    "import pandas as pd\n",
    "import gc\n",
    "\n",
    "from PIL import Image\n",
    "from tqdm.notebook import tqdm\n",
    "import torch\n",
    "\n",
    "sys.path.append('/home/ugeon/endoai/jupyter/autoAnnotation/ocSort/')\n",
    "from ocSort.trackers.ocsort.ocsort import OCSort\n",
    "\n",
    "sys.path.append('/home/ugeon/.local/lib/python3.8/site-packages')\n",
    "sys.path.append('/home/ugeon/endoai/jupyter/module/')\n",
    "from preprocessingData_v3 import verify_annotation"
   ]
  },
  {
   "cell_type": "code",
   "execution_count": 2,
   "id": "e6aab0e4",
   "metadata": {
    "ExecuteTime": {
     "end_time": "2023-03-03T08:37:31.836289Z",
     "start_time": "2023-03-03T08:37:31.827050Z"
    }
   },
   "outputs": [],
   "source": [
    "def xywh2xyxy(x, image_shape = False):\n",
    "    \"\"\"\n",
    "    image_shape = (width, height)\n",
    "    \"\"\"\n",
    "    if not isinstance(x, (np.ndarray)):\n",
    "        x = np.array(x)\n",
    "\n",
    "    # Convert nx4 boxes from [cx, cy, w, h, cls] to [x1, y1, x2, y2, cls] where xy1=top-left, xy2=bottom-right\n",
    "    y = np.copy(x)\n",
    "    y[:, 0] = x[:, 0] - x[:, 2] / 2  # top left x\n",
    "    y[:, 1] = x[:, 1] - x[:, 3] / 2  # top left y\n",
    "    y[:, 2] = x[:, 0] + x[:, 2] / 2  # bottom right x\n",
    "    y[:, 3] = x[:, 1] + x[:, 3] / 2  # bottom right y\n",
    "    \n",
    "    if image_shape:\n",
    "        y[:,:4] = y[:,:4] * [int(image_shape[0]), int(image_shape[1]),int(image_shape[0]), int(image_shape[1])]\n",
    "    return y\n",
    "\n",
    "\n",
    "def xyxy2xywh(x, image_shape = False):\n",
    "    \"\"\"\n",
    "    image_shape = (width, height)\n",
    "    \"\"\"\n",
    "    if not isinstance(x, (np.ndarray)):\n",
    "        x = np.array(x)\n",
    "\n",
    "    # Convert nx4 boxes from [x1, y1, x2, y2, cls] to [cx, cy, w, h, cls]\n",
    "    y = np.copy(x)\n",
    "    y[:, 0] = (x[:, 0] + x[:, 2]) / 2  # center x\n",
    "    y[:, 1] = (x[:, 1] + x[:, 3]) / 2  # center y\n",
    "    y[:, 2] = (x[:, 2] - x[:, 0])         # width x\n",
    "    y[:, 3] = (x[:, 3] - x[:, 1])        # width y\n",
    "\n",
    "    if image_shape:    \n",
    "        y[:,:4] = y[:,:4] / [int(image_shape[0]), int(image_shape[1]),int(image_shape[0]), int(image_shape[1])]\n",
    "    return y\n",
    "\n",
    "\n",
    "def IoU( box1, box2):\n",
    "    # box = (x1, y1, x2, y2)\n",
    "    box1_area = (box1[2] - box1[0] + 1) * (box1[3] - box1[1] + 1)\n",
    "    box2_area = (box2[2] - box2[0] + 1) * (box2[3] - box2[1] + 1)\n",
    "\n",
    "    # obtain x1, y1, x2, y2 of the intersection\n",
    "    x1 = max(box1[0], box2[0])\n",
    "    y1 = max(box1[1], box2[1])\n",
    "    x2 = min(box1[2], box2[2])\n",
    "    y2 = min(box1[3], box2[3])\n",
    "\n",
    "    # compute the width and height of the intersection\n",
    "    w = max(0, x2 - x1 + 1)\n",
    "    h = max(0, y2 - y1 + 1)\n",
    "\n",
    "    inter = w * h\n",
    "    iou = inter / (box1_area + box2_area - inter)\n",
    "    return iou\n",
    "\n",
    "\n",
    "def calculateZOOM(img1, img2, scale_factor = 0.7):\n",
    "    small1 = cv2.resize(img1, None, fx=scale_factor, fy=scale_factor)\n",
    "    small2 = cv2.resize(img2, None, fx=scale_factor, fy=scale_factor)\n",
    "\n",
    "    # Convert to grayscale\n",
    "    gray1 = cv2.cvtColor(small1, cv2.COLOR_BGR2GRAY)\n",
    "    gray2 = cv2.cvtColor(small2, cv2.COLOR_BGR2GRAY)\n",
    "\n",
    "    # Detect keypoints and compute the ORB descriptors\n",
    "    orb = cv2.ORB_create()\n",
    "    keypoints1, descriptors1 = orb.detectAndCompute(gray1, None)\n",
    "    keypoints2, descriptors2 = orb.detectAndCompute(gray2, None)\n",
    "\n",
    "    # Match the descriptors\n",
    "    bf = cv2.BFMatcher(cv2.NORM_HAMMING, crossCheck=True)\n",
    "    matches = bf.match(descriptors1, descriptors2)\n",
    "\n",
    "    # Sort the matches in the order of their distances\n",
    "    matches = sorted(matches, key = lambda x : x.distance)\n",
    "\n",
    "    # Calculate the zoom level\n",
    "    if len(matches) > 4:\n",
    "        src_pts = np.float32([keypoints1[m.queryIdx].pt for m in matches]).reshape(-1, 1, 2)\n",
    "        dst_pts = np.float32([keypoints2[m.trainIdx].pt for m in matches]).reshape(-1, 1, 2)\n",
    "\n",
    "        M, mask = cv2.findHomography(src_pts, dst_pts, cv2.RANSAC, 5.0)\n",
    "        zoom = np.abs(np.linalg.det(M))\n",
    "    return zoom"
   ]
  },
  {
   "cell_type": "code",
   "execution_count": 3,
   "id": "027d25d3",
   "metadata": {
    "ExecuteTime": {
     "end_time": "2023-03-03T08:37:32.134523Z",
     "start_time": "2023-03-03T08:37:32.120431Z"
    }
   },
   "outputs": [],
   "source": [
    "def prepare_Detection_df(dataset_path, recursive = True):\n",
    "    \"\"\"\n",
    "    caution! Only Available for jpg images\n",
    "    dets = [cx, cy, w, h, 1(conf), cls]\n",
    "    dets_xyxy = [x1, y1, x2, y2, 1(conf), cls]\n",
    "    \"\"\"\n",
    "    images = sorted(glob(dataset_path + '**/*.jpg', recursive = recursive))\n",
    "    img_path_dict = {osp.basename(f) : f for f in images}\n",
    "    annote_dict = dict()\n",
    "    annote_xyxy_dict = dict()\n",
    "    image_shape = list(map(int, re.findall('(\\d+)x(\\d+)', magic.from_file(images[0]))[-1]))\n",
    "\n",
    "    for image in images:\n",
    "        img_name = image.split('/')[-1]\n",
    "        try :\n",
    "            with open(image[:-4]+ '.txt', 'r') as f:\n",
    "                temp = np.asarray(list(map(lambda x: list(np.float64(x.strip().split( )))+ [1], f.readlines())))\n",
    "                annotation = temp[:,1:]\n",
    "                annotation = np.append(annotation, temp[:,0]).reshape(1,6)\n",
    "\n",
    "                annotation_xyxy = xywh2xyxy(annotation, image_shape)\n",
    "                annote_dict[img_name] = annotation\n",
    "                annote_xyxy_dict[img_name]= annotation_xyxy\n",
    "        except :\n",
    "            annote_xyxy_dict[img_name]= np.nan\n",
    "            annote_dict[img_name] = np.nan\n",
    "            \n",
    "    df = pd.DataFrame(columns = ['image', 'path','dets', 'dets_xyxy', 'tracker_forward', 'tracker_backward', 'tracker_rst', 'interpolate_rst', 'final_pred'])  \n",
    "    df['image'] = img_path_dict.keys()\n",
    "    df['path'] = df['image'].apply(lambda x : img_path_dict[x])\n",
    "    df['dets'] = df['image'].apply(lambda x : annote_dict[x])\n",
    "    df['dets_xyxy'] = df['image'].apply(lambda x : annote_xyxy_dict[x])\n",
    "    print(f\"found {len(df)} images / shape : {image_shape[0]}x{image_shape[1]}\")\n",
    "    return df, image_shape\n",
    "\n",
    "\n",
    "def get_properDets(prev_dets, new_dets, tracking_valid_iou=0.5):\n",
    "    valid_idx = []\n",
    "    for idx, prev_det in enumerate(prev_dets):\n",
    "        for new_det in new_dets:\n",
    "            iou = IoU(new_det, prev_det)\n",
    "            if iou >= tracking_valid_iou:\n",
    "                valid_idx.append(idx)\n",
    "    valid_idx = list(set(valid_idx))\n",
    "    valid_prev_dets = prev_dets[valid_idx]\n",
    "    return valid_prev_dets\n",
    "\n",
    "# predict with tracker\n",
    "def create_ocSort_tracker():\n",
    "    ocsort_forward = OCSort(det_thresh = 0.1, iou_threshold = 0.1, min_hits = 1, delta_t = 7,)\n",
    "    ocsort_backward = OCSort(det_thresh = 0.1, iou_threshold = 0.1, min_hits = 1, delta_t = 7,)\n",
    "    return ocsort_forward, ocsort_backward\n",
    "\n",
    "\n",
    "def predictDet(tracker, df, direction, tracking_valid_iou, pred_count, image_shape):\n",
    "    \"\"\"\n",
    "    direction : forward, backward\n",
    "    \"\"\"\n",
    "    if direction  == 'forward':\n",
    "        out_df = df.sort_values(by = 'image', ascending = True)\n",
    "    elif direction  == 'backward':\n",
    "        out_df = df.sort_values(by = 'image', ascending = False)\n",
    "\n",
    "    predictable_state = False\n",
    "    prev_Detected = False\n",
    "    prev_img = None\n",
    "    prev_TrueDets = None\n",
    "    prev_TrueDets_xywh = None\n",
    "    zoom_factor = []\n",
    "    predDet_count = 1\n",
    "    interpolate_det_count = 0\n",
    "\n",
    "    for idx in tqdm(out_df.index):\n",
    "        image_name = out_df._get_value(idx, 'image')\n",
    "        det = out_df._get_value(idx, 'dets_xyxy')\n",
    "        img_path = out_df._get_value(idx, 'path')\n",
    "        img = cv2.imread(img_path)\n",
    "\n",
    "        if isinstance(det, (np.ndarray)) :\n",
    "            if prev_Detected == False:\n",
    "                prev_Detected = True\n",
    "                predictable_state = False\n",
    "            elif prev_Detected:\n",
    "                predictable_state = True\n",
    "\n",
    "            prev_img = img\n",
    "            prev_TrueDets = det\n",
    "            prev_TrueDets_xywh = xyxy2xywh(det, image_shape)\n",
    "            predDet_count = 1\n",
    "            zoom_factor = []\n",
    "            tracker.update(det,img)\n",
    "        else :\n",
    "            det = np.empty((0, 6))\n",
    "            pred_dets = tracker.update(det,img, return_predict = True)\n",
    "            pred_dets = get_properDets(pred_dets, prev_TrueDets, tracking_valid_iou)\n",
    "\n",
    "            if predictable_state and predDet_count < pred_count + 1 and len(pred_dets) >=1:\n",
    "                zoom = calculateZOOM(prev_img, img)\n",
    "                zoom_factor.append(zoom)\n",
    "                if zoom >= 0.6 and zoom <= 1.6:\n",
    "                    pred_dets_xywh = xyxy2xywh(pred_dets, image_shape)\n",
    "                    pred_dets_xywh[:,2] = prev_TrueDets_xywh[:,2].max() * np.mean(zoom_factor)\n",
    "                    pred_dets_xywh[:,3] = prev_TrueDets_xywh[:,3].max() * np.mean(zoom_factor)\n",
    "                    out_df._set_value(idx, f'tracker_{direction}', pred_dets_xywh)        \n",
    "                    predDet_count += 1\n",
    "                    interpolate_det_count += 1\n",
    "                else:\n",
    "                    predictable_state = False\n",
    "                    zoom_factor = []\n",
    "\n",
    "            prev_img = img\n",
    "            prev_Detected = False\n",
    "            \n",
    "    if direction  == 'backward':\n",
    "        out_df = out_df.sort_values(by = 'image', ascending=True)\n",
    "    return out_df\n",
    "\n",
    "\n",
    "def update_predDet(rst_df, tracking_valid_iou):\n",
    "    out_df = rst_df.copy()\n",
    "    part_images = out_df.loc[(out_df['tracker_forward'].notna())|(out_df['tracker_backward'].notna())].index\n",
    "    for idx in part_images:\n",
    "        pred1 = out_df._get_value(idx, 'tracker_forward')\n",
    "        pred2 = out_df._get_value(idx, 'tracker_backward')\n",
    "\n",
    "        if type(pred1) == float:\n",
    "            out_df._set_value(idx, 'tracker_rst', pred2)\n",
    "        elif type(pred2) == float:\n",
    "            out_df._set_value(idx, 'tracker_rst', pred1)\n",
    "        elif len(pred1) == 1 and len(pred2) == 1: \n",
    "            iou = IoU(pred1[0], pred2[0])\n",
    "            if iou >= tracking_valid_iou:\n",
    "                new_pred = (pred1  + pred2)/2\n",
    "                out_df._set_value(idx, 'tracker_rst', new_pred)\n",
    "            else:\n",
    "                continue\n",
    "    print(f\"{out_df['tracker_rst'].notna().sum()}/{out_df['dets'].isna().sum()} images predicted\")\n",
    "    out_df = out_df.sort_values(by = 'image', ascending=True)\n",
    "    return out_df\n",
    "\n",
    "\n",
    "def save_newAnnotations(df, col_name, save_path):\n",
    "    if osp.isdir(save_path) == False:\n",
    "        os.mkdir(save_path)\n",
    "\n",
    "    new_annotes = df.loc[df[col_name].notnull()].index\n",
    "    for idx in new_annotes:\n",
    "        imageName = df._get_value(idx, 'image')\n",
    "        temp_new = df._get_value(idx, col_name)\n",
    "        tmpe_new2 = temp_new[:,:4]\n",
    "        tmpe_new2 = np.append(temp_new[:,-1], tmpe_new2).reshape(1,5)\n",
    "        ret, new_preds = verify_annotation(tmpe_new2)\n",
    "\n",
    "        if ret != 'error':\n",
    "            with open(save_path + imageName[:-4] + '.txt', 'w') as f:\n",
    "                for pred_det in new_preds.tolist():\n",
    "                    to_write = f\"{int(pred_det[0])} {pred_det[1]} {pred_det[2]} {pred_det[3]} {pred_det[4]}\\n\"\n",
    "                    f.write(to_write)\n",
    "\n",
    "\n",
    "def execute(dataset_path, tracking_valid_iou = 0.5, pred_count = 10, recursive = True):\n",
    "    df = prepare_Detection_df(dataset_path, recursive = recursive)\n",
    "    ocsort_tracker_forward, ocsort_tracker_backward = create_ocSort_tracker()\n",
    "\n",
    "    temp_df1 = predictDet(ocsort_tracker_forward, df, direction='forward', pred_count = pred_count, \n",
    "                                tracking_valid_iou = tracking_valid_iou, image_shape=image_shape)\n",
    "    temp_df2 = predictDet(ocsort_tracker_backward, temp_df1, direction='backward', pred_count = pred_count,\n",
    "                                tracking_valid_iou = tracking_valid_iou, image_shape=image_shape)\n",
    "    tracker_rst  = update_predDet(temp_df2, tracking_valid_iou)\n",
    "    \n",
    "    return tracker_rst"
   ]
  },
  {
   "cell_type": "markdown",
   "id": "0b20f89a",
   "metadata": {},
   "source": [
    "# Versions\n",
    "1. 기본 detection으로 interpolate\n",
    "    1. IOU활용 중점 & 안겹치면 전부 저장\n",
    "    2. tracker을 우선순위로\n",
    "    3. interpolate를 우선순위로\n",
    "2. tracker 후 interpolate\n",
    "3. interpolate 후 tracker\n",
    "    "
   ]
  },
  {
   "cell_type": "code",
   "execution_count": 6,
   "id": "f3080c5d",
   "metadata": {
    "ExecuteTime": {
     "end_time": "2023-03-03T08:38:11.537698Z",
     "start_time": "2023-03-03T08:38:11.535249Z"
    }
   },
   "outputs": [],
   "source": [
    "# dataset_path = '/mnt/d/autoAnnotate/testSet/V1516_p1_AD/'\n",
    "dataset_path = '/mnt/d/autoAnnotate/testSet/V1660_p1_AD/'"
   ]
  },
  {
   "cell_type": "code",
   "execution_count": 7,
   "id": "67ec8df1",
   "metadata": {
    "ExecuteTime": {
     "end_time": "2023-03-03T08:38:17.390498Z",
     "start_time": "2023-03-03T08:38:13.307033Z"
    }
   },
   "outputs": [
    {
     "name": "stdout",
     "output_type": "stream",
     "text": [
      "found 1829 images / shape : 1240x1080\n"
     ]
    }
   ],
   "source": [
    "tracking_valid_iou = 0.1\n",
    "pred_count = 10\n",
    "\n",
    "ocsort_tracker_forward, ocsort_tracker_backward = create_ocSort_tracker()\n",
    "df, image_shape = prepare_Detection_df(dataset_path, recursive = True)"
   ]
  },
  {
   "cell_type": "markdown",
   "id": "711f3ccc",
   "metadata": {},
   "source": [
    "## 1A : two track으로 적용 후 IOU를 활용한 중간값"
   ]
  },
  {
   "cell_type": "code",
   "execution_count": 8,
   "id": "970ac8c8",
   "metadata": {
    "ExecuteTime": {
     "end_time": "2023-03-03T08:39:46.727840Z",
     "start_time": "2023-03-03T08:38:47.376332Z"
    }
   },
   "outputs": [
    {
     "data": {
      "application/json": {
       "ascii": false,
       "bar_format": null,
       "colour": null,
       "elapsed": 0.011915922164916992,
       "initial": 0,
       "n": 0,
       "ncols": null,
       "nrows": 75,
       "postfix": null,
       "prefix": "",
       "rate": null,
       "total": 1829,
       "unit": "it",
       "unit_divisor": 1000,
       "unit_scale": false
      },
      "application/vnd.jupyter.widget-view+json": {
       "model_id": "bb60d68b2a984fc0bcac72e899624267",
       "version_major": 2,
       "version_minor": 0
      },
      "text/plain": [
       "  0%|          | 0/1829 [00:00<?, ?it/s]"
      ]
     },
     "metadata": {},
     "output_type": "display_data"
    },
    {
     "data": {
      "application/json": {
       "ascii": false,
       "bar_format": null,
       "colour": null,
       "elapsed": 0.009084463119506836,
       "initial": 0,
       "n": 0,
       "ncols": null,
       "nrows": 75,
       "postfix": null,
       "prefix": "",
       "rate": null,
       "total": 1829,
       "unit": "it",
       "unit_divisor": 1000,
       "unit_scale": false
      },
      "application/vnd.jupyter.widget-view+json": {
       "model_id": "cbac38c9ec1248f38aeb40e5f4f82922",
       "version_major": 2,
       "version_minor": 0
      },
      "text/plain": [
       "  0%|          | 0/1829 [00:00<?, ?it/s]"
      ]
     },
     "metadata": {},
     "output_type": "display_data"
    },
    {
     "name": "stdout",
     "output_type": "stream",
     "text": [
      "365/1308 images predicted\n"
     ]
    }
   ],
   "source": [
    "temp_df1 = predictDet(ocsort_tracker_forward, df, direction='forward', pred_count = pred_count, \n",
    "                            tracking_valid_iou = tracking_valid_iou, image_shape=image_shape)\n",
    "temp_df2 = predictDet(ocsort_tracker_backward, temp_df1, direction='backward', pred_count = pred_count,\n",
    "                            tracking_valid_iou = tracking_valid_iou, image_shape=image_shape)\n",
    "tracker_rst_df  = update_predDet(temp_df2, tracking_valid_iou)"
   ]
  },
  {
   "cell_type": "code",
   "execution_count": 9,
   "id": "a3c1fb7c",
   "metadata": {
    "ExecuteTime": {
     "end_time": "2023-03-03T08:44:48.452867Z",
     "start_time": "2023-03-03T08:44:48.443367Z"
    }
   },
   "outputs": [],
   "source": [
    "# interpolate\n",
    "def interpolate_indexList(df, col_name, interpolate_count = 30):\n",
    "    \"\"\"\n",
    "    col_name : 어떤 column을 기준으로 interpolate할 것인지 지정\n",
    "    2프레임 연속으로 det이 존재해야 interpolate 가능\n",
    "    \"\"\"\n",
    "    part_df = df[['image',col_name]].copy()\n",
    "    \n",
    "    empty_idx_list = list(df.loc[df[col_name].isna()].index)\n",
    "    part_df['prev_dets'] = part_df[col_name].shift(1)\n",
    "    part_df['next_dets'] = part_df[col_name].shift(-1)\n",
    "    interpolatable_idx_list = list(part_df.loc[(part_df[col_name].notna())&((part_df['prev_dets'].notna())|(part_df['next_dets'].notna()))].index)\n",
    "\n",
    "    idx = 0\n",
    "    prev_i = False\n",
    "    rtn_dict = dict()\n",
    "    temp_list = []\n",
    "    rtn_list = []\n",
    "\n",
    "    for i in empty_idx_list:\n",
    "        if not prev_i:\n",
    "            temp_list.append(i)\n",
    "            prev_i = i\n",
    "            continue\n",
    "        if i - prev_i == 1:\n",
    "            temp_list.append(i)\n",
    "            prev_i = i\n",
    "        else:\n",
    "            prev_i = i\n",
    "            if len(temp_list) <= interpolate_count:\n",
    "                min_idx = min(temp_list) - 1\n",
    "                max_idx = max(temp_list) + 1\n",
    "                if min_idx in interpolatable_idx_list and max_idx in interpolatable_idx_list:\n",
    "                    rtn_list.append(min_idx)\n",
    "                    rtn_list.append(max_idx)\n",
    "            temp_list = [i]\n",
    "    return rtn_list\n",
    "\n",
    "\n",
    "def interpolateDet(df, col_name, interpolate_count = 30):\n",
    "    \"\"\"\n",
    "    interpolate detections with arithmetic sequence(등차수열)\n",
    "        2프레임 연속으로 det이 존재해야 interpolate 가능\n",
    "    col_name : 어떤 column을 기준으로 interpolate할 것인지 지정\n",
    "    interpolate_count : interpolate할 최대 연속된 빈칸; ex) 30프레임 이상 연속되게 비어있는 경우 interpolate하지 않음\n",
    "    \"\"\"\n",
    "    out_df = df.copy()\n",
    "    ipt_list = interpolate_indexList(out_df, col_name, interpolate_count)\n",
    "\n",
    "    for idx in range(len(ipt_list) // 2):\n",
    "        start_idx = ipt_list[2 * idx]\n",
    "        end_idx = ipt_list[2 * idx + 1]\n",
    "\n",
    "        start_det = out_df._get_value(start_idx,  col_name)\n",
    "        end_det = out_df._get_value(end_idx, col_name)\n",
    "        if len(start_det) == 1 and len(end_det) == 1:\n",
    "            diff_det = (end_det - start_det) / (end_idx - start_idx)\n",
    "            dcx, dcy, dw, dh =  diff_det[0][0], diff_det[0][1], diff_det[0][2], diff_det[0][3]\n",
    "\n",
    "            for mv_idx, df_idx in enumerate(range(start_idx + 1, end_idx)):\n",
    "                new_cx = start_det[:,0] + dcx * (mv_idx + 1)\n",
    "                new_cy = start_det[:,1] + dcy * (mv_idx + 1)\n",
    "                new_w = start_det[:,2] + dw * (mv_idx + 1)\n",
    "                new_h = start_det[:,3] + dh * (mv_idx + 1)\n",
    "                new_det = f\"{new_cx[0]} {new_cy[0]} {new_w[0]} {new_h[0]} 1 0\"\n",
    "                new_det2 = np.array([list(map(lambda x : np.float64(x), new_det.split()))])\n",
    "                out_df._set_value(df_idx, 'interpolate_rst', new_det2)\n",
    "    return out_df"
   ]
  },
  {
   "cell_type": "code",
   "execution_count": 12,
   "id": "f1cc4aa1",
   "metadata": {
    "ExecuteTime": {
     "end_time": "2023-03-03T08:46:25.749894Z",
     "start_time": "2023-03-03T08:46:25.744980Z"
    }
   },
   "outputs": [],
   "source": [
    "def merge_finalDet(rst_df, merge_valid_iou):\n",
    "    \"\"\"\n",
    "    \n",
    "    \"\"\"\n",
    "    out_df = rst_df.copy()\n",
    "    part_images = out_df.loc[(out_df['tracker_rst'].notna())|(out_df['interpolate_rst'].notna())].index\n",
    "    for idx in part_images:\n",
    "        pred1 = out_df._get_value(idx, 'tracker_rst')\n",
    "        pred2 = out_df._get_value(idx, 'interpolate_rst')\n",
    "\n",
    "        if type(pred1) == float:\n",
    "            out_df._set_value(idx, 'final_pred', pred2)\n",
    "        elif type(pred2) == float:\n",
    "            out_df._set_value(idx, 'final_pred', pred1)\n",
    "        elif len(pred1) == 1 and len(pred2) == 1: \n",
    "            iou = IoU(pred1[0], pred2[0])\n",
    "            if iou >= merge_valid_iou:\n",
    "                print(pred1, pred2)\n",
    "                new_pred = pred1/3 + (2 * pred2)/3\n",
    "                out_df._set_value(idx, 'final_pred', new_pred)\n",
    "            else:\n",
    "                new_pred = np.vstack((pred1  + pred2))\n",
    "                print(idx, new_pred)\n",
    "                out_df._set_value(idx, 'final_pred', new_pred)\n",
    "                \n",
    "    print(f\"{out_df['final_pred'].notna().sum()}/{out_df['dets'].isna().sum()} blank images auto-annotated\")\n",
    "    print(f\"    tracker {out_df['tracker_rst'].notna().sum()} / interpolate {out_df['interpolate_rst'].notna().sum()}\")\n",
    "    out_df = out_df.sort_values(by = 'image', ascending=True)\n",
    "    print(out_df.loc[(out_df['tracker_rst'].notna())&(out_df['interpolate_rst'].notna())].index)\n",
    "    return out_df"
   ]
  },
  {
   "cell_type": "code",
   "execution_count": 13,
   "id": "d0c142ce",
   "metadata": {
    "ExecuteTime": {
     "end_time": "2023-03-03T08:46:26.625343Z",
     "start_time": "2023-03-03T08:46:26.597455Z"
    },
    "scrolled": true
   },
   "outputs": [
    {
     "name": "stdout",
     "output_type": "stream",
     "text": [
      "[[   0.088853       0.501      0.1056      0.1769           0]] [[   0.091402     0.50025     0.10986      0.1828           1           0]]\n"
     ]
    },
    {
     "ename": "ValueError",
     "evalue": "operands could not be broadcast together with shapes (1,5) (1,6) ",
     "output_type": "error",
     "traceback": [
      "\u001b[0;31m---------------------------------------------------------------------------\u001b[0m",
      "\u001b[0;31mValueError\u001b[0m                                Traceback (most recent call last)",
      "Input \u001b[0;32mIn [13]\u001b[0m, in \u001b[0;36m<cell line: 5>\u001b[0;34m()\u001b[0m\n\u001b[1;32m      2\u001b[0m merge_valid_iou \u001b[38;5;241m=\u001b[39m \u001b[38;5;241m0.6\u001b[39m\n\u001b[1;32m      4\u001b[0m interpolate_df \u001b[38;5;241m=\u001b[39m interpolateDet(tracker_rst_df, \u001b[38;5;124m'\u001b[39m\u001b[38;5;124mdets\u001b[39m\u001b[38;5;124m'\u001b[39m, interpolate_count)\n\u001b[0;32m----> 5\u001b[0m rst_df \u001b[38;5;241m=\u001b[39m \u001b[43mmerge_finalDet\u001b[49m\u001b[43m(\u001b[49m\u001b[43minterpolate_df\u001b[49m\u001b[43m,\u001b[49m\u001b[43m \u001b[49m\u001b[43mmerge_valid_iou\u001b[49m\u001b[43m)\u001b[49m\n",
      "Input \u001b[0;32mIn [12]\u001b[0m, in \u001b[0;36mmerge_finalDet\u001b[0;34m(rst_df, merge_valid_iou)\u001b[0m\n\u001b[1;32m     17\u001b[0m \u001b[38;5;28;01mif\u001b[39;00m iou \u001b[38;5;241m>\u001b[39m\u001b[38;5;241m=\u001b[39m merge_valid_iou:\n\u001b[1;32m     18\u001b[0m     \u001b[38;5;28mprint\u001b[39m(pred1, pred2)\n\u001b[0;32m---> 19\u001b[0m     new_pred \u001b[38;5;241m=\u001b[39m \u001b[43mpred1\u001b[49m\u001b[38;5;241;43m/\u001b[39;49m\u001b[38;5;241;43m3\u001b[39;49m\u001b[43m \u001b[49m\u001b[38;5;241;43m+\u001b[39;49m\u001b[43m \u001b[49m\u001b[43m(\u001b[49m\u001b[38;5;241;43m2\u001b[39;49m\u001b[43m \u001b[49m\u001b[38;5;241;43m*\u001b[39;49m\u001b[43m \u001b[49m\u001b[43mpred2\u001b[49m\u001b[43m)\u001b[49m\u001b[38;5;241;43m/\u001b[39;49m\u001b[38;5;241;43m3\u001b[39;49m\n\u001b[1;32m     20\u001b[0m     _, new_pred \u001b[38;5;241m=\u001b[39m verify_annotation(new_pred)\n\u001b[1;32m     21\u001b[0m     out_df\u001b[38;5;241m.\u001b[39m_set_value(idx, \u001b[38;5;124m'\u001b[39m\u001b[38;5;124mfinal_pred\u001b[39m\u001b[38;5;124m'\u001b[39m, new_pred)\n",
      "\u001b[0;31mValueError\u001b[0m: operands could not be broadcast together with shapes (1,5) (1,6) "
     ]
    }
   ],
   "source": [
    "interpolate_count = 30\n",
    "merge_valid_iou = 0.6\n",
    "\n",
    "interpolate_df = interpolateDet(tracker_rst_df, 'dets', interpolate_count)\n",
    "rst_df = merge_finalDet(interpolate_df, merge_valid_iou)"
   ]
  },
  {
   "cell_type": "code",
   "execution_count": 82,
   "id": "e1124b49",
   "metadata": {
    "ExecuteTime": {
     "end_time": "2023-03-03T05:13:18.324210Z",
     "start_time": "2023-03-03T05:13:18.012058Z"
    }
   },
   "outputs": [],
   "source": [
    "sv_path = '/mnt/d/autoAnnotate/after/V1516_p1_AD_v1A/'\n",
    "shutil.copytree(dataset_path, sv_path, dirs_exist_ok = True)\n",
    "\n",
    "save_newAnnotations(rst_df, sv_path)"
   ]
  },
  {
   "cell_type": "code",
   "execution_count": 104,
   "id": "05a4af72",
   "metadata": {
    "ExecuteTime": {
     "end_time": "2023-03-03T05:23:53.145776Z",
     "start_time": "2023-03-03T05:23:53.141115Z"
    }
   },
   "outputs": [],
   "source": [
    "del merge_finalDet\n",
    "\n",
    "def merge_finalDet(rst_df, merge_valid_iou):\n",
    "    out_df = rst_df.copy()\n",
    "    part_images = out_df.loc[(out_df['tracker_rst'].notna())|(out_df['interpolate_rst'].notna())].index\n",
    "    for idx in part_images:\n",
    "        pred1 = out_df._get_value(idx, 'tracker_rst')\n",
    "        pred2 = out_df._get_value(idx, 'interpolate_rst')\n",
    "\n",
    "        if type(pred1) == float:\n",
    "            out_df._set_value(idx, 'final_pred', pred2)\n",
    "        elif type(pred2) == float:\n",
    "            out_df._set_value(idx, 'final_pred', pred1)\n",
    "        elif len(pred1) == 1 and len(pred2) == 1: \n",
    "            iou = IoU(pred1[0], pred2[0])\n",
    "            if iou >= merge_valid_iou:\n",
    "                _, new_pred = verify_annotation(pred1)\n",
    "#                 print(idx, new_pred)\n",
    "                out_df._set_value(idx, 'final_pred', new_pred)\n",
    "            else:\n",
    "                new_pred = np.vstack((pred1  + pred2))\n",
    "                _, new_pred = verify_annotation(new_pred)\n",
    "                print(idx, new_pred)\n",
    "                out_df._set_value(idx, 'final_pred', new_pred)\n",
    "                \n",
    "    print(f\"{out_df['final_pred'].notna().sum()}/{out_df['dets'].isna().sum()} blank images auto-annotated\")\n",
    "    print(f\"    tracker {out_df['tracker_rst'].notna().sum()} / interpolate {out_df['interpolate_rst'].notna().sum()}\")\n",
    "    out_df = out_df.sort_values(by = 'image', ascending=True)\n",
    "    print(out_df.loc[(out_df['tracker_rst'].notna())&(out_df['interpolate_rst'].notna())].index)\n",
    "    return out_df\n"
   ]
  },
  {
   "cell_type": "code",
   "execution_count": 105,
   "id": "890f1568",
   "metadata": {
    "ExecuteTime": {
     "end_time": "2023-03-03T05:23:54.217020Z",
     "start_time": "2023-03-03T05:23:54.204491Z"
    },
    "scrolled": true
   },
   "outputs": [
    {
     "name": "stdout",
     "output_type": "stream",
     "text": [
      "156/396 blank images auto-annotated\n",
      "    tracker 156 / interpolate 50\n",
      "Int64Index([ 76,  80, 110, 257, 258, 259, 260, 261, 262, 263, 264, 323, 663,\n",
      "            664, 665, 666, 667, 668, 669, 670, 671, 672, 673, 674, 675, 676,\n",
      "            677, 678, 679, 895, 920, 921, 922, 923, 924, 925, 926, 927, 928,\n",
      "            929, 930, 931, 932, 933, 934, 935, 955, 956, 957, 958],\n",
      "           dtype='int64')\n"
     ]
    }
   ],
   "source": [
    "interpolate_count = 30\n",
    "merge_valid_iou = 0.6\n",
    "\n",
    "interpolate_df = interpolateDet(tracker_rst_df, 'dets', interpolate_count)\n",
    "rst_df = merge_finalDet(interpolate_df, merge_valid_iou)"
   ]
  },
  {
   "cell_type": "code",
   "execution_count": 86,
   "id": "96b07cfa",
   "metadata": {
    "ExecuteTime": {
     "end_time": "2023-03-03T05:13:55.815952Z",
     "start_time": "2023-03-03T05:13:55.510695Z"
    }
   },
   "outputs": [],
   "source": [
    "sv_path = '/mnt/d/autoAnnotate/after/V1516_p1_AD_v1B/'\n",
    "# shutil.copytree(dataset_path, sv_path, dirs_exist_ok = True)\n",
    "\n",
    "save_newAnnotations(rst_df, sv_path)"
   ]
  },
  {
   "cell_type": "markdown",
   "id": "db8c489f",
   "metadata": {},
   "source": [
    "### 1C\n",
    "    3. interpolation을 우선순위로"
   ]
  },
  {
   "cell_type": "code",
   "execution_count": 106,
   "id": "d9093aec",
   "metadata": {
    "ExecuteTime": {
     "end_time": "2023-03-03T05:23:56.578327Z",
     "start_time": "2023-03-03T05:23:56.573724Z"
    }
   },
   "outputs": [],
   "source": [
    "del merge_finalDet\n",
    "\n",
    "def merge_finalDet(rst_df, merge_valid_iou):\n",
    "    out_df = rst_df.copy()\n",
    "    part_images = out_df.loc[(out_df['tracker_rst'].notna())|(out_df['interpolate_rst'].notna())].index\n",
    "    for idx in part_images:\n",
    "        pred1 = out_df._get_value(idx, 'tracker_rst')\n",
    "        pred2 = out_df._get_value(idx, 'interpolate_rst')\n",
    "\n",
    "        if type(pred1) == float:\n",
    "            out_df._set_value(idx, 'final_pred', pred2)\n",
    "        elif type(pred2) == float:\n",
    "            out_df._set_value(idx, 'final_pred', pred1)\n",
    "        elif len(pred1) == 1 and len(pred2) == 1: \n",
    "            iou = IoU(pred1[0], pred2[0])\n",
    "            if iou >= merge_valid_iou:\n",
    "                _, new_pred = verify_annotation(pred2)\n",
    "#                 print(idx, new_pred)\n",
    "                out_df._set_value(idx, 'final_pred', new_pred)\n",
    "            else:\n",
    "                new_pred = np.vstack((pred1  + pred2))\n",
    "                _, new_pred = verify_annotation(new_pred)\n",
    "                print(idx, new_pred)\n",
    "                out_df._set_value(idx, 'final_pred', new_pred)\n",
    "                \n",
    "    print(f\"{out_df['final_pred'].notna().sum()}/{out_df['dets'].isna().sum()} blank images auto-annotated\")\n",
    "    print(f\"    tracker {out_df['tracker_rst'].notna().sum()} / interpolate {out_df['interpolate_rst'].notna().sum()}\")\n",
    "    out_df = out_df.sort_values(by = 'image', ascending=True)\n",
    "    print(out_df.loc[(out_df['tracker_rst'].notna())&(out_df['interpolate_rst'].notna())].index)\n",
    "    return out_df\n"
   ]
  },
  {
   "cell_type": "code",
   "execution_count": 107,
   "id": "af8e98fd",
   "metadata": {
    "ExecuteTime": {
     "end_time": "2023-03-03T05:23:56.749078Z",
     "start_time": "2023-03-03T05:23:56.733120Z"
    },
    "scrolled": true
   },
   "outputs": [
    {
     "name": "stdout",
     "output_type": "stream",
     "text": [
      "156/396 blank images auto-annotated\n",
      "    tracker 156 / interpolate 50\n",
      "Int64Index([ 76,  80, 110, 257, 258, 259, 260, 261, 262, 263, 264, 323, 663,\n",
      "            664, 665, 666, 667, 668, 669, 670, 671, 672, 673, 674, 675, 676,\n",
      "            677, 678, 679, 895, 920, 921, 922, 923, 924, 925, 926, 927, 928,\n",
      "            929, 930, 931, 932, 933, 934, 935, 955, 956, 957, 958],\n",
      "           dtype='int64')\n"
     ]
    }
   ],
   "source": [
    "interpolate_count = 30\n",
    "merge_valid_iou = 0.6\n",
    "\n",
    "interpolate_df = interpolateDet(tracker_rst_df, 'dets', interpolate_count)\n",
    "rst_df = merge_finalDet(interpolate_df, merge_valid_iou)"
   ]
  },
  {
   "cell_type": "code",
   "execution_count": 95,
   "id": "b821d08a",
   "metadata": {
    "ExecuteTime": {
     "end_time": "2023-03-03T05:20:24.507773Z",
     "start_time": "2023-03-03T05:19:50.294921Z"
    }
   },
   "outputs": [],
   "source": [
    "sv_path = '/mnt/d/autoAnnotate/after/V1516_p1_AD_v1C/'\n",
    "shutil.copytree(dataset_path, sv_path, dirs_exist_ok = True)\n",
    "\n",
    "save_newAnnotations(rst_df, sv_path)"
   ]
  },
  {
   "cell_type": "code",
   "execution_count": 143,
   "id": "9725a100",
   "metadata": {
    "ExecuteTime": {
     "end_time": "2023-03-03T06:07:51.888106Z",
     "start_time": "2023-03-03T06:07:51.879168Z"
    }
   },
   "outputs": [],
   "source": [
    "def interpolateDet(df, col_name, interpolate_count = 30):\n",
    "    \"\"\"\n",
    "    interpolate detections with arithmetic sequence(등차수열)\n",
    "    interpolate_count : interpolate할 최대 연속된 빈칸; ex) 30프레임 이상 연속되게 비어있는 경우 interpolate하지 않음\n",
    "    \"\"\"\n",
    "    out_df = df.copy()\n",
    "    out_df['tracker_rst'].fillna(out_df['dets'], inplace=True)\n",
    "    ipt_list = interpolate_indexList(out_df,col_name, interpolate_count)\n",
    "    print(ipt_list)\n",
    "\n",
    "    for idx in range(len(ipt_list) // 2):\n",
    "        start_idx = ipt_list[2 * idx]\n",
    "        end_idx = ipt_list[2 * idx + 1]\n",
    "\n",
    "        start_det = out_df._get_value(start_idx,  col_name)\n",
    "        end_det = out_df._get_value(end_idx, col_name)\n",
    "        if len(start_det) == 1 and len(end_det) == 1:\n",
    "            diff_det = (end_det - start_det) / (end_idx - start_idx)\n",
    "            dcx, dcy, dw, dh =  diff_det[0][0], diff_det[0][1], diff_det[0][2], diff_det[0][3]\n",
    "\n",
    "            for mv_idx, df_idx in enumerate(range(start_idx + 1, end_idx)):\n",
    "                new_cx = start_det[:,0] + dcx * (mv_idx + 1)\n",
    "                new_cy = start_det[:,1] + dcy * (mv_idx + 1)\n",
    "                new_w = start_det[:,2] + dw * (mv_idx + 1)\n",
    "                new_h = start_det[:,3] + dh * (mv_idx + 1)\n",
    "                new_det = f\"{new_cx[0]} {new_cy[0]} {new_w[0]} {new_h[0]} 0\"\n",
    "                new_det2 = np.array([list(map(lambda x : np.float64(x), new_det.split()))])\n",
    "                out_df._set_value(df_idx, 'interpolate_rst', new_det2)\n",
    "    \n",
    "    print(f\"{out_df['interpolate_rst'].notna().sum()}/{out_df['dets'].isna().sum()} images interpolated\")\n",
    "    out_df.loc[out_df['dets'].notna(), 'tracker_rst'] = np.nan\n",
    "    return out_df\n",
    "\n",
    "\n",
    "del merge_finalDet\n",
    "def merge_finalDet(rst_df, merge_valid_iou):\n",
    "    out_df = rst_df.copy()\n",
    "    part_images = out_df.loc[(out_df['tracker_rst'].notna())|(out_df['interpolate_rst'].notna())].index\n",
    "    for idx in part_images:\n",
    "        pred1 = out_df._get_value(idx, 'tracker_rst')\n",
    "        pred2 = out_df._get_value(idx, 'interpolate_rst')\n",
    "\n",
    "        if type(pred1) == float:\n",
    "            out_df._set_value(idx, 'final_pred', pred2)\n",
    "        elif type(pred2) == float:\n",
    "            out_df._set_value(idx, 'final_pred', pred1)\n",
    "        elif len(pred1) == 1 and len(pred2) == 1: \n",
    "            iou = IoU(pred1[0], pred2[0])\n",
    "            if iou >= merge_valid_iou:\n",
    "                _, new_pred = verify_annotation(pred2)\n",
    "                out_df._set_value(idx, 'final_pred', new_pred)\n",
    "            else:\n",
    "                new_pred = np.vstack((pred1  + pred2))\n",
    "                _, new_pred = verify_annotation(new_pred)\n",
    "                print(idx, new_pred)\n",
    "                out_df._set_value(idx, 'final_pred', new_pred)\n",
    "                \n",
    "    print(f\"{out_df['final_pred'].notna().sum()}/{out_df['dets'].isna().sum()} blank images auto-annotated\")\n",
    "    print(f\"    tracker {out_df['tracker_rst'].notna().sum()} / interpolate {out_df['interpolate_rst'].notna().sum()}\")\n",
    "    out_df = out_df.sort_values(by = 'image', ascending=True)\n",
    "    print(out_df.loc[(out_df['tracker_rst'].notna())|(out_df['interpolate_rst'].notna())].index)\n",
    "    return out_df"
   ]
  },
  {
   "cell_type": "code",
   "execution_count": 144,
   "id": "3768d055",
   "metadata": {
    "ExecuteTime": {
     "end_time": "2023-03-03T06:07:53.377458Z",
     "start_time": "2023-03-03T06:07:53.368601Z"
    },
    "scrolled": true
   },
   "outputs": [
    {
     "name": "stdout",
     "output_type": "stream",
     "text": [
      "[75, 77, 79, 81, 109, 111, 256, 265, 322, 324, 662, 680, 894, 896, 919, 936, 954, 959]\n",
      "50/396 images interpolated\n"
     ]
    }
   ],
   "source": [
    "interpolate_count = 30\n",
    "merge_valid_iou = 0.6\n",
    "\n",
    "interpolate_df = interpolateDet(df, 'tracker_rst', interpolate_count)"
   ]
  },
  {
   "cell_type": "code",
   "execution_count": 145,
   "id": "0f7ea7e7",
   "metadata": {
    "ExecuteTime": {
     "end_time": "2023-03-03T06:07:54.209678Z",
     "start_time": "2023-03-03T06:07:54.205872Z"
    }
   },
   "outputs": [],
   "source": [
    "interpolate_df.fillna(interpolate_df.tracker_rst,inplace=True)\n",
    "interpolate_df.fillna(interpolate_df.interpolate_rst,inplace=True)"
   ]
  },
  {
   "cell_type": "code",
   "execution_count": 137,
   "id": "a0649b3c",
   "metadata": {
    "ExecuteTime": {
     "end_time": "2023-03-03T06:00:56.628646Z",
     "start_time": "2023-03-03T06:00:56.207963Z"
    }
   },
   "outputs": [],
   "source": [
    "sv_path = '/mnt/d/autoAnnotate/after/V1516_p1_AD_v2/'\n",
    "shutil.copytree(dataset_path, sv_path, dirs_exist_ok = True)\n",
    "\n",
    "save_newAnnotations(interpolate_df, 'final_pred', sv_path)"
   ]
  },
  {
   "cell_type": "markdown",
   "id": "d5861543",
   "metadata": {},
   "source": [
    "## version3\n",
    "* interpolate 후 tracker"
   ]
  },
  {
   "cell_type": "code",
   "execution_count": 19,
   "id": "574efb03",
   "metadata": {
    "ExecuteTime": {
     "end_time": "2023-03-03T08:02:47.885220Z",
     "start_time": "2023-03-03T08:02:47.879379Z"
    }
   },
   "outputs": [],
   "source": [
    "def interpolateDet(df, col_name, interpolate_count = 30):\n",
    "    \"\"\"\n",
    "    interpolate detections with arithmetic sequence(등차수열)\n",
    "    interpolate_count : interpolate할 최대 연속된 빈칸; ex) 30프레임 이상 연속되게 비어있는 경우 interpolate하지 않음\n",
    "    \"\"\"\n",
    "    out_df = df.copy()\n",
    "    ipt_list = interpolate_indexList(out_df,col_name, interpolate_count)\n",
    "#     print(ipt_list)\n",
    "\n",
    "    for idx in range(len(ipt_list) // 2):\n",
    "        start_idx = ipt_list[2 * idx]\n",
    "        end_idx = ipt_list[2 * idx + 1]\n",
    "\n",
    "        start_det = out_df._get_value(start_idx,  col_name)\n",
    "        end_det = out_df._get_value(end_idx, col_name)\n",
    "        if len(start_det) == 1 and len(end_det) == 1:\n",
    "            diff_det = (end_det - start_det) / (end_idx - start_idx)\n",
    "            dcx, dcy, dw, dh =  diff_det[0][0], diff_det[0][1], diff_det[0][2], diff_det[0][3]\n",
    "\n",
    "            for mv_idx, df_idx in enumerate(range(start_idx + 1, end_idx)):\n",
    "                new_cx = start_det[:,0] + dcx * (mv_idx + 1)\n",
    "                new_cy = start_det[:,1] + dcy * (mv_idx + 1)\n",
    "                new_w = start_det[:,2] + dw * (mv_idx + 1)\n",
    "                new_h = start_det[:,3] + dh * (mv_idx + 1)\n",
    "                new_det = f\"{new_cx[0]} {new_cy[0]} {new_w[0]} {new_h[0]} 1 0\"\n",
    "                new_det2 = np.array([list(map(lambda x : np.float64(x), new_det.split()))])\n",
    "                out_df._set_value(df_idx, 'interpolate_rst', new_det2)\n",
    "    print(f\"{out_df['interpolate_rst'].notna().sum()}/{out_df['dets'].isna().sum()} blank images auto-annotated\")    \n",
    "    return out_df"
   ]
  },
  {
   "cell_type": "code",
   "execution_count": 49,
   "id": "26511d80",
   "metadata": {
    "ExecuteTime": {
     "end_time": "2023-03-03T08:17:55.984205Z",
     "start_time": "2023-03-03T08:17:55.975639Z"
    },
    "scrolled": true
   },
   "outputs": [
    {
     "name": "stdout",
     "output_type": "stream",
     "text": [
      "50/396 blank images auto-annotated\n"
     ]
    }
   ],
   "source": [
    "interpolate_count = 30\n",
    "merge_valid_iou = 0.6\n",
    "\n",
    "interpolate_df = interpolateDet(df, 'dets', interpolate_count)"
   ]
  },
  {
   "cell_type": "code",
   "execution_count": 50,
   "id": "d34f344b",
   "metadata": {
    "ExecuteTime": {
     "end_time": "2023-03-03T08:18:29.390726Z",
     "start_time": "2023-03-03T08:17:56.570161Z"
    }
   },
   "outputs": [
    {
     "data": {
      "application/json": {
       "ascii": false,
       "bar_format": null,
       "colour": null,
       "elapsed": 0.008813142776489258,
       "initial": 0,
       "n": 0,
       "ncols": null,
       "nrows": 75,
       "postfix": null,
       "prefix": "",
       "rate": null,
       "total": 1159,
       "unit": "it",
       "unit_divisor": 1000,
       "unit_scale": false
      },
      "application/vnd.jupyter.widget-view+json": {
       "model_id": "91456722c45c429d985bf9e143c42cd0",
       "version_major": 2,
       "version_minor": 0
      },
      "text/plain": [
       "  0%|          | 0/1159 [00:00<?, ?it/s]"
      ]
     },
     "metadata": {},
     "output_type": "display_data"
    },
    {
     "data": {
      "application/json": {
       "ascii": false,
       "bar_format": null,
       "colour": null,
       "elapsed": 0.009260177612304688,
       "initial": 0,
       "n": 0,
       "ncols": null,
       "nrows": 75,
       "postfix": null,
       "prefix": "",
       "rate": null,
       "total": 1159,
       "unit": "it",
       "unit_divisor": 1000,
       "unit_scale": false
      },
      "application/vnd.jupyter.widget-view+json": {
       "model_id": "4e1a048622f04a40a8a814d8bca43585",
       "version_major": 2,
       "version_minor": 0
      },
      "text/plain": [
       "  0%|          | 0/1159 [00:00<?, ?it/s]"
      ]
     },
     "metadata": {},
     "output_type": "display_data"
    },
    {
     "name": "stdout",
     "output_type": "stream",
     "text": [
      "106/396 images predicted\n"
     ]
    }
   ],
   "source": [
    "tracking_valid_iou = 0.1\n",
    "pred_count = 10\n",
    "\n",
    "df2 = interpolate_df.copy()\n",
    "df2.loc[df2['interpolate_rst'].notna(), 'dets_xyxy'] = df2.loc[df2['interpolate_rst'].notna(), 'interpolate_rst'].apply(lambda t : xywh2xyxy(t, image_shape))\n",
    "\n",
    "ocsort_tracker_forward, ocsort_tracker_backward = create_ocSort_tracker()\n",
    "temp_df1 = predictDet(ocsort_tracker_forward, df2, direction='forward', pred_count = pred_count, \n",
    "                            tracking_valid_iou = tracking_valid_iou, image_shape=image_shape)\n",
    "temp_df2 = predictDet(ocsort_tracker_backward, temp_df1, direction='backward', pred_count = pred_count,\n",
    "                            tracking_valid_iou = tracking_valid_iou, image_shape=image_shape)\n",
    "tracker_rst_df2  = update_predDet(temp_df2, tracking_valid_iou)"
   ]
  },
  {
   "cell_type": "code",
   "execution_count": 53,
   "id": "28b67892",
   "metadata": {
    "ExecuteTime": {
     "end_time": "2023-03-03T08:19:19.623496Z",
     "start_time": "2023-03-03T08:19:19.616149Z"
    }
   },
   "outputs": [
    {
     "name": "stdout",
     "output_type": "stream",
     "text": [
      "156\n"
     ]
    },
    {
     "data": {
      "text/plain": [
       "[44,\n",
       " 76,\n",
       " 80,\n",
       " 84,\n",
       " 86,\n",
       " 110,\n",
       " 140,\n",
       " 214,\n",
       " 215,\n",
       " 216,\n",
       " 217,\n",
       " 218,\n",
       " 219,\n",
       " 220,\n",
       " 221,\n",
       " 222,\n",
       " 223,\n",
       " 237,\n",
       " 238,\n",
       " 239,\n",
       " 240,\n",
       " 241,\n",
       " 242,\n",
       " 243,\n",
       " 244,\n",
       " 245,\n",
       " 246,\n",
       " 257,\n",
       " 258,\n",
       " 259,\n",
       " 260,\n",
       " 261,\n",
       " 262,\n",
       " 263,\n",
       " 264,\n",
       " 323,\n",
       " 354,\n",
       " 355,\n",
       " 356,\n",
       " 357,\n",
       " 358,\n",
       " 391,\n",
       " 392,\n",
       " 393,\n",
       " 394,\n",
       " 395,\n",
       " 396,\n",
       " 397,\n",
       " 398,\n",
       " 399,\n",
       " 400,\n",
       " 489,\n",
       " 490,\n",
       " 491,\n",
       " 492,\n",
       " 493,\n",
       " 494,\n",
       " 495,\n",
       " 496,\n",
       " 497,\n",
       " 498,\n",
       " 513,\n",
       " 514,\n",
       " 515,\n",
       " 516,\n",
       " 517,\n",
       " 518,\n",
       " 519,\n",
       " 520,\n",
       " 521,\n",
       " 522,\n",
       " 663,\n",
       " 664,\n",
       " 665,\n",
       " 666,\n",
       " 667,\n",
       " 668,\n",
       " 669,\n",
       " 670,\n",
       " 671,\n",
       " 672,\n",
       " 673,\n",
       " 674,\n",
       " 675,\n",
       " 676,\n",
       " 677,\n",
       " 678,\n",
       " 679,\n",
       " 786,\n",
       " 787,\n",
       " 788,\n",
       " 789,\n",
       " 790,\n",
       " 791,\n",
       " 792,\n",
       " 793,\n",
       " 794,\n",
       " 795,\n",
       " 895,\n",
       " 920,\n",
       " 921,\n",
       " 922,\n",
       " 923,\n",
       " 924,\n",
       " 925,\n",
       " 926,\n",
       " 927,\n",
       " 928,\n",
       " 929,\n",
       " 930,\n",
       " 931,\n",
       " 932,\n",
       " 933,\n",
       " 934,\n",
       " 935,\n",
       " 955,\n",
       " 956,\n",
       " 957,\n",
       " 958,\n",
       " 1001,\n",
       " 1002,\n",
       " 1003,\n",
       " 1004,\n",
       " 1005,\n",
       " 1006,\n",
       " 1007,\n",
       " 1008,\n",
       " 1009,\n",
       " 1010,\n",
       " 1053,\n",
       " 1054,\n",
       " 1055,\n",
       " 1056,\n",
       " 1057,\n",
       " 1058,\n",
       " 1059,\n",
       " 1060,\n",
       " 1061,\n",
       " 1062,\n",
       " 1108,\n",
       " 1109,\n",
       " 1110,\n",
       " 1111,\n",
       " 1112,\n",
       " 1113,\n",
       " 1114,\n",
       " 1115,\n",
       " 1116,\n",
       " 1149,\n",
       " 1150,\n",
       " 1151,\n",
       " 1152,\n",
       " 1153,\n",
       " 1154,\n",
       " 1155,\n",
       " 1156]"
      ]
     },
     "execution_count": 53,
     "metadata": {},
     "output_type": "execute_result"
    }
   ],
   "source": [
    "tracker_rst_df2['final_pred'].fillna(tracker_rst_df2['tracker_rst'], inplace=True)\n",
    "tracker_rst_df2['final_pred'].fillna(tracker_rst_df2['interpolate_rst'], inplace=True)\n",
    "print(tracker_rst_df2['final_pred'].notna().sum())\n",
    "# list(tracker_rst_df2.loc[tracker_rst_df2['final_pred'].notna()].index)"
   ]
  },
  {
   "cell_type": "code",
   "execution_count": 52,
   "id": "43210cee",
   "metadata": {
    "ExecuteTime": {
     "end_time": "2023-03-03T08:19:03.639790Z",
     "start_time": "2023-03-03T08:19:03.315365Z"
    }
   },
   "outputs": [],
   "source": [
    "sv_path = '/mnt/d/autoAnnotate/after/V1516_p1_AD_v3/'\n",
    "# shutil.copytree(dataset_path, sv_path, dirs_exist_ok = True)\n",
    "\n",
    "save_newAnnotations(tracker_rst_df2, 'final_pred', sv_path)"
   ]
  },
  {
   "cell_type": "markdown",
   "id": "c8e8294d",
   "metadata": {},
   "source": [
    "# 결과"
   ]
  },
  {
   "cell_type": "markdown",
   "id": "96630816",
   "metadata": {},
   "source": [
    "* v3 >>>> v2"
   ]
  },
  {
   "cell_type": "markdown",
   "id": "3145fa6f",
   "metadata": {},
   "source": [
    "* interpolateing이 tracking보다 우위에 있는 듯 함\n",
    "* 활용 가능 방안들\n",
    "    * 1C : two track으로 적용 후 interpolate prediction을 우선으로 적용\n",
    "    * 1A : two track으로 적용 후 IOU를 활용한 중간값\n",
    "    * 3  : interpolating 한 후 tracking 적용"
   ]
  },
  {
   "cell_type": "code",
   "execution_count": null,
   "id": "535a535e",
   "metadata": {},
   "outputs": [],
   "source": []
  }
 ],
 "metadata": {
  "kernelspec": {
   "display_name": "Python 3 (ipykernel)",
   "language": "python",
   "name": "python3"
  },
  "language_info": {
   "codemirror_mode": {
    "name": "ipython",
    "version": 3
   },
   "file_extension": ".py",
   "mimetype": "text/x-python",
   "name": "python",
   "nbconvert_exporter": "python",
   "pygments_lexer": "ipython3",
   "version": "3.8.10"
  },
  "toc": {
   "base_numbering": 1,
   "nav_menu": {},
   "number_sections": true,
   "sideBar": true,
   "skip_h1_title": false,
   "title_cell": "Table of Contents",
   "title_sidebar": "Contents",
   "toc_cell": false,
   "toc_position": {},
   "toc_section_display": true,
   "toc_window_display": false
  }
 },
 "nbformat": 4,
 "nbformat_minor": 5
}
