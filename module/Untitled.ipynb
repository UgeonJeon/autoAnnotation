{
 "cells": [
  {
   "cell_type": "code",
   "execution_count": 6,
   "id": "02074610",
   "metadata": {
    "ExecuteTime": {
     "end_time": "2023-03-06T08:41:33.153152Z",
     "start_time": "2023-03-06T08:41:33.150100Z"
    }
   },
   "outputs": [],
   "source": [
    "from  autoAnnotation_v2 import *\n",
    "import sys\n",
    "sys.path.append('/home/ugeon/.local/lib/python3.8/site-packages')\n"
   ]
  },
  {
   "cell_type": "code",
   "execution_count": 7,
   "id": "26811864",
   "metadata": {
    "ExecuteTime": {
     "end_time": "2023-03-06T08:42:33.504649Z",
     "start_time": "2023-03-06T08:41:34.145127Z"
    }
   },
   "outputs": [
    {
     "name": "stdout",
     "output_type": "stream",
     "text": [
      "found 1829 images / shape : 1240x1080\n"
     ]
    },
    {
     "data": {
      "application/json": {
       "ascii": false,
       "bar_format": null,
       "colour": null,
       "elapsed": 0.018190622329711914,
       "initial": 0,
       "n": 0,
       "ncols": null,
       "nrows": 75,
       "postfix": null,
       "prefix": "",
       "rate": null,
       "total": 1829,
       "unit": "it",
       "unit_divisor": 1000,
       "unit_scale": false
      },
      "application/vnd.jupyter.widget-view+json": {
       "model_id": "8f2524d59319443595d04d82b2902e3d",
       "version_major": 2,
       "version_minor": 0
      },
      "text/plain": [
       "  0%|          | 0/1829 [00:00<?, ?it/s]"
      ]
     },
     "metadata": {},
     "output_type": "display_data"
    },
    {
     "data": {
      "application/json": {
       "ascii": false,
       "bar_format": null,
       "colour": null,
       "elapsed": 0.00890207290649414,
       "initial": 0,
       "n": 0,
       "ncols": null,
       "nrows": 75,
       "postfix": null,
       "prefix": "",
       "rate": null,
       "total": 1829,
       "unit": "it",
       "unit_divisor": 1000,
       "unit_scale": false
      },
      "application/vnd.jupyter.widget-view+json": {
       "model_id": "11bc4c8d21c04ac886f4f6bb3ff0687a",
       "version_major": 2,
       "version_minor": 0
      },
      "text/plain": [
       "  0%|          | 0/1829 [00:00<?, ?it/s]"
      ]
     },
     "metadata": {},
     "output_type": "display_data"
    },
    {
     "name": "stdout",
     "output_type": "stream",
     "text": [
      "453/1308 blank images auto-annotated\n",
      "    tracker 445 / interpolate 116\n"
     ]
    }
   ],
   "source": [
    "dataset_path = '/mnt/d/autoAnnotate/testSet/V1660_p1_AD/'\n",
    "\n",
    "tracking_valid_iou = 0.2\n",
    "merge_valid_iou = 0.6\n",
    "pred_count = 15\n",
    "interpolate_count = 30\n",
    "\n",
    "obj = autoAnnotate(dataset_path, recursive=True)\n",
    "\n",
    "rst_df = obj.execute()"
   ]
  },
  {
   "cell_type": "code",
   "execution_count": null,
   "id": "fb6eca15",
   "metadata": {},
   "outputs": [],
   "source": []
  }
 ],
 "metadata": {
  "kernelspec": {
   "display_name": "Python 3 (ipykernel)",
   "language": "python",
   "name": "python3"
  },
  "language_info": {
   "codemirror_mode": {
    "name": "ipython",
    "version": 3
   },
   "file_extension": ".py",
   "mimetype": "text/x-python",
   "name": "python",
   "nbconvert_exporter": "python",
   "pygments_lexer": "ipython3",
   "version": "3.8.10"
  },
  "toc": {
   "base_numbering": 1,
   "nav_menu": {},
   "number_sections": true,
   "sideBar": true,
   "skip_h1_title": false,
   "title_cell": "Table of Contents",
   "title_sidebar": "Contents",
   "toc_cell": false,
   "toc_position": {},
   "toc_section_display": true,
   "toc_window_display": false
  }
 },
 "nbformat": 4,
 "nbformat_minor": 5
}
